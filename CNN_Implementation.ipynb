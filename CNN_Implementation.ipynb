{
 "cells": [
  {
   "cell_type": "code",
   "execution_count": 2,
   "id": "bdb65835-356c-4c5e-9597-84058c0a674d",
   "metadata": {},
   "outputs": [],
   "source": [
    "import torch\n",
    "import torch.nn as nn\n",
    "import torchvision\n",
    "import torchvision.transforms as transforms\n",
    "import time"
   ]
  },
  {
   "cell_type": "code",
   "execution_count": 3,
   "id": "43fb94e5-c71e-4294-a328-52a81e9237b8",
   "metadata": {},
   "outputs": [
    {
     "data": {
      "text/plain": [
       "True"
      ]
     },
     "execution_count": 3,
     "metadata": {},
     "output_type": "execute_result"
    }
   ],
   "source": [
    "torch.cuda.is_available()"
   ]
  },
  {
   "cell_type": "code",
   "execution_count": 18,
   "id": "54998438-53e5-44c6-af33-cd12ca15753d",
   "metadata": {},
   "outputs": [],
   "source": [
    "device=torch.device('cuda') if torch.cuda.is_available() else torch.device('cpu')"
   ]
  },
  {
   "cell_type": "code",
   "execution_count": 4,
   "id": "8e56d756-b19e-472b-beb7-3cfc0d64fff7",
   "metadata": {},
   "outputs": [],
   "source": [
    "device=torch.device('cpu')"
   ]
  },
  {
   "cell_type": "code",
   "execution_count": 19,
   "id": "300c89e5-e3a1-4edb-b13d-500ed9b53db8",
   "metadata": {},
   "outputs": [
    {
     "data": {
      "text/plain": [
       "device(type='cuda')"
      ]
     },
     "execution_count": 19,
     "metadata": {},
     "output_type": "execute_result"
    }
   ],
   "source": [
    "device"
   ]
  },
  {
   "cell_type": "code",
   "execution_count": 20,
   "id": "7cf6e423-a30b-4bfb-8f7a-85e679228f39",
   "metadata": {},
   "outputs": [],
   "source": [
    "batch_size=64\n",
    "num_classes=10 ## CIFAR-10 has 10 classes\n",
    "lr=0.001\n",
    "num_epochs=20"
   ]
  },
  {
   "cell_type": "code",
   "execution_count": 21,
   "id": "5432e6bc-e81b-4b72-9a29-462559fcd593",
   "metadata": {},
   "outputs": [],
   "source": [
    "## Transforms that we need to implement on the image are: Resize, convert to Tensors, Normalize\n",
    "\n",
    "transform=transforms.Compose([\n",
    "    transforms.Resize((32,32)),\n",
    "    transforms.ToTensor(),\n",
    "    transforms.Normalize(mean=[0.4914, 0.4822, 0.4465],\n",
    "                        std=[0.2023, 0.1994, 0.2010])\n",
    "])"
   ]
  },
  {
   "cell_type": "code",
   "execution_count": 22,
   "id": "d0a597fa-e8a3-4cab-8983-8d528e3debb6",
   "metadata": {},
   "outputs": [
    {
     "name": "stdout",
     "output_type": "stream",
     "text": [
      "Files already downloaded and verified\n"
     ]
    }
   ],
   "source": [
    "train=torchvision.datasets.CIFAR10(root='./data',\n",
    "                                  train=True,\n",
    "                                  transform=transform,\n",
    "                                  download=True)"
   ]
  },
  {
   "cell_type": "code",
   "execution_count": 23,
   "id": "a125d538-da12-40fd-8795-7ff613ecb7ad",
   "metadata": {},
   "outputs": [
    {
     "name": "stdout",
     "output_type": "stream",
     "text": [
      "Files already downloaded and verified\n"
     ]
    }
   ],
   "source": [
    "test=torchvision.datasets.CIFAR10(root='./data',\n",
    "                                  train=False,\n",
    "                                  transform=transform,\n",
    "                                  download=True\n",
    ")"
   ]
  },
  {
   "cell_type": "code",
   "execution_count": 24,
   "id": "83be4e5b-c72e-4b7f-b0c8-5dee43f4a7b7",
   "metadata": {},
   "outputs": [],
   "source": [
    "## Data Loader\n",
    "\n",
    "train_loader=torch.utils.data.DataLoader(dataset=train,\n",
    "                                         batch_size=batch_size,\n",
    "                                         shuffle=True)\n",
    "\n",
    "test_dataloader=torch.utils.data.DataLoader(dataset=test,\n",
    "                                           batch_size=batch_size,\n",
    "                                           shuffle=True)"
   ]
  },
  {
   "cell_type": "code",
   "execution_count": 25,
   "id": "475dcb72-f03c-43c2-8969-eae8764e5f2f",
   "metadata": {},
   "outputs": [],
   "source": [
    "class CNN(nn.Module):\n",
    "    def __init__(self, num_classes):\n",
    "        super(CNN, self).__init__()\n",
    "        self.conv_layer1=nn.Conv2d(in_channels=3, out_channels=32, kernel_size=3)\n",
    "        self.conv_layer2=nn.Conv2d(in_channels=32, out_channels=32, kernel_size=3)\n",
    "        self.maxpool1=nn.MaxPool2d(kernel_size=2, stride=2)\n",
    "        self.conv_layer3=nn.Conv2d(in_channels=32, out_channels=64, kernel_size=3)\n",
    "        self.conv_layer4=nn.Conv2d(in_channels=64, out_channels=64, kernel_size=3)\n",
    "        self.maxpool2=nn.MaxPool2d(kernel_size=2, stride=2)\n",
    "        self.fc1=nn.Linear(1600,128)\n",
    "        self.relu=nn.ReLU()\n",
    "        self.fc2=nn.Linear(128,num_classes)\n",
    "\n",
    "\n",
    "    def forward(self,x):\n",
    "        out=self.conv_layer1(x)\n",
    "        out=self.conv_layer2(out)\n",
    "        out=self.maxpool1(out)\n",
    "        out=self.conv_layer3(out)\n",
    "        out=self.conv_layer4(out)\n",
    "        out=self.maxpool2(out)\n",
    "        out = out.reshape(out.size(0), -1)\n",
    "        out=self.fc1(out)\n",
    "        out=self.relu(out)\n",
    "        out=self.fc2(out)\n",
    "        return out"
   ]
  },
  {
   "cell_type": "code",
   "execution_count": 26,
   "id": "2be4a914-3bb6-467e-9f7c-9069b4971325",
   "metadata": {},
   "outputs": [],
   "source": [
    "model=CNN(num_classes)\n",
    "model=model.to(device)"
   ]
  },
  {
   "cell_type": "code",
   "execution_count": 27,
   "id": "5fe6a61c-bdc0-4b91-a3a1-5a0a31bfbaee",
   "metadata": {},
   "outputs": [],
   "source": [
    "criterion=nn.CrossEntropyLoss()"
   ]
  },
  {
   "cell_type": "code",
   "execution_count": 28,
   "id": "868cb367-f71e-421e-b010-efdd25299f16",
   "metadata": {},
   "outputs": [],
   "source": [
    "optimizer=torch.optim.SGD(model.parameters(), lr=lr, weight_decay = (0.005), momentum=0.9)"
   ]
  },
  {
   "cell_type": "code",
   "execution_count": 29,
   "id": "eb4d8101-d917-4001-bbc1-a588835e8c6b",
   "metadata": {},
   "outputs": [],
   "source": [
    "total_step=len(train_loader)"
   ]
  },
  {
   "cell_type": "code",
   "execution_count": 30,
   "id": "e6f40e41-c081-454e-993a-39ffc4ebe6c5",
   "metadata": {},
   "outputs": [
    {
     "name": "stdout",
     "output_type": "stream",
     "text": [
      "Epoch [1/20], Loss: 1.1809\n",
      "Epoch [2/20], Loss: 1.2362\n",
      "Epoch [3/20], Loss: 0.9558\n",
      "Epoch [4/20], Loss: 1.8683\n",
      "Epoch [5/20], Loss: 0.7891\n",
      "Epoch [6/20], Loss: 1.1763\n",
      "Epoch [7/20], Loss: 1.2163\n",
      "Epoch [8/20], Loss: 1.9778\n",
      "Epoch [9/20], Loss: 1.2392\n",
      "Epoch [10/20], Loss: 1.0851\n",
      "Epoch [11/20], Loss: 1.1205\n",
      "Epoch [12/20], Loss: 0.8931\n",
      "Epoch [13/20], Loss: 0.6871\n",
      "Epoch [14/20], Loss: 0.9240\n",
      "Epoch [15/20], Loss: 0.8609\n",
      "Epoch [16/20], Loss: 0.5331\n",
      "Epoch [17/20], Loss: 0.7487\n",
      "Epoch [18/20], Loss: 0.2863\n",
      "Epoch [19/20], Loss: 1.0926\n",
      "Epoch [20/20], Loss: 0.6085\n",
      "The duration is 155.95753479003906\n"
     ]
    }
   ],
   "source": [
    "start=time.time()\n",
    "for epoch in range(num_epochs):\n",
    "    for i, (images, labels) in enumerate(train_loader):\n",
    "        images=images.to(device)\n",
    "        labels=labels.to(device)\n",
    "        output=model(images)\n",
    "        loss=criterion(output, labels)\n",
    "        optimizer.zero_grad()\n",
    "        loss.backward()\n",
    "        optimizer.step()\n",
    "    print('Epoch [{}/{}], Loss: {:.4f}'.format(epoch+1, num_epochs, loss.item()))\n",
    "end=time.time()\n",
    "print(f\"The duration is {end-start}\")"
   ]
  },
  {
   "cell_type": "code",
   "execution_count": 32,
   "id": "560b7aef-6347-44d0-862a-d6111a5f4dac",
   "metadata": {},
   "outputs": [
    {
     "name": "stdout",
     "output_type": "stream",
     "text": [
      "Accuracy 67.56%\n",
      "Duration is 1.586249828338623\n"
     ]
    }
   ],
   "source": [
    "ts=time.time()\n",
    "with torch.no_grad():\n",
    "    correct=0\n",
    "    total=0\n",
    "    for images, labels in test_dataloader:\n",
    "        images=images.to(device)\n",
    "        labels=labels.to(device)\n",
    "        outputs=model(images)\n",
    "        _, predicted=torch.max(outputs.data,1)\n",
    "        total+=labels.size(0)\n",
    "        correct+= (predicted==labels).sum().item()\n",
    "\n",
    "    print(f\"Accuracy {correct/total*100}%\")\n",
    "\n",
    "es=time.time()\n",
    "print(f\"Duration is {es-ts}\")"
   ]
  },
  {
   "cell_type": "code",
   "execution_count": 19,
   "id": "e056453e-c8b9-4d68-a1ed-d5a3ece372a2",
   "metadata": {},
   "outputs": [
    {
     "data": {
      "text/plain": [
       "True"
      ]
     },
     "execution_count": 19,
     "metadata": {},
     "output_type": "execute_result"
    }
   ],
   "source": [
    "torch.cuda.is_available()"
   ]
  },
  {
   "cell_type": "code",
   "execution_count": 21,
   "id": "f5d07517-3c51-4f75-96fb-754d86c9dfae",
   "metadata": {},
   "outputs": [],
   "source": [
    "a=torch.tensor([[1,2,3],[4,5,6]])"
   ]
  },
  {
   "cell_type": "code",
   "execution_count": 22,
   "id": "234a0edd-bcf7-4797-a61c-bde84a3428ec",
   "metadata": {},
   "outputs": [
    {
     "data": {
      "text/plain": [
       "2"
      ]
     },
     "execution_count": 22,
     "metadata": {},
     "output_type": "execute_result"
    }
   ],
   "source": [
    "a.size(0)"
   ]
  },
  {
   "cell_type": "code",
   "execution_count": null,
   "id": "450ae25d-cd49-4d5e-8392-712d2c0ebe6f",
   "metadata": {},
   "outputs": [],
   "source": []
  }
 ],
 "metadata": {
  "kernelspec": {
   "display_name": "Python 3 (ipykernel)",
   "language": "python",
   "name": "python3"
  },
  "language_info": {
   "codemirror_mode": {
    "name": "ipython",
    "version": 3
   },
   "file_extension": ".py",
   "mimetype": "text/x-python",
   "name": "python",
   "nbconvert_exporter": "python",
   "pygments_lexer": "ipython3",
   "version": "3.10.12"
  }
 },
 "nbformat": 4,
 "nbformat_minor": 5
}
